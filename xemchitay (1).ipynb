{
  "nbformat": 4,
  "nbformat_minor": 0,
  "metadata": {
    "colab": {
      "name": "xemchitay.ipynb",
      "provenance": []
    },
    "kernelspec": {
      "name": "python3",
      "display_name": "Python 3"
    },
    "language_info": {
      "name": "python"
    }
  },
  "cells": [
    {
      "cell_type": "code",
      "execution_count": 4,
      "metadata": {
        "id": "ZLkhNzf0hmu8"
      },
      "outputs": [],
      "source": [
        "import numpy as np\n",
        "import tensorflow as tf\n",
        "from tensorflow.keras.models import load_model\n",
        "from tensorflow.keras.utils import load_img\n",
        "from tensorflow.keras.utils import img_to_array\n",
        "from tensorflow.keras.optimizers import SGD,Adam\n",
        "from tensorflow.keras.preprocessing.image import ImageDataGenerator\n",
        "import matplotlib.pyplot as plt\n",
        "from keras.models import Sequential \n",
        "from keras.utils import np_utils\n",
        "from keras.layers import Dense,Activation,Dropout,LSTM,BatchNormalization\n",
        "from keras.layers import Flatten\n",
        "from tensorflow.keras.optimizers import RMSprop\n",
        "from tensorflow.keras.utils import to_categorical\n",
        "from keras.layers.convolutional import Conv2D\n",
        "from keras.layers.convolutional import MaxPooling2D"
      ]
    },
    {
      "cell_type": "code",
      "source": [
        "from google.colab import drive\n",
        "drive.mount('/content/drive')"
      ],
      "metadata": {
        "colab": {
          "base_uri": "https://localhost:8080/"
        },
        "id": "_TfxNKnxjDIh",
        "outputId": "add08f7c-cf67-45fc-c549-cd145ccb1925"
      },
      "execution_count": null,
      "outputs": [
        {
          "output_type": "stream",
          "name": "stdout",
          "text": [
            "Drive already mounted at /content/drive; to attempt to forcibly remount, call drive.mount(\"/content/drive\", force_remount=True).\n"
          ]
        }
      ]
    },
    {
      "cell_type": "code",
      "source": [
        "data_generator = ImageDataGenerator(rescale=1./255,validation_split=0.1,width_shift_range=0.2,height_shift_range=0.2,zoom_range=0.2,horizontal_flip=True)"
      ],
      "metadata": {
        "id": "jrVMesFdjDPX"
      },
      "execution_count": 5,
      "outputs": []
    },
    {
      "cell_type": "code",
      "source": [
        "trainset='/content/drive/MyDrive/Colab Notebooks/chitay/Hands'"
      ],
      "metadata": {
        "id": "8d90XIntnEKZ"
      },
      "execution_count": 6,
      "outputs": []
    },
    {
      "cell_type": "code",
      "source": [
        "train_dataset=data_generator.flow_from_directory(trainset,\n",
        "                                     target_size=(100,100),\n",
        "                                     batch_size=128,\n",
        "                                     class_mode='categorical',\n",
        "                                     subset=\"training\",\n",
        "                                     shuffle=True,)\n",
        "validation_set=data_generator.flow_from_directory(trainset,\n",
        "                                              target_size=(100,100),\n",
        "                                              batch_size=128,\n",
        "                                              class_mode='categorical',\n",
        "                                              subset=\"validation\",\n",
        "                                              shuffle=True)"
      ],
      "metadata": {
        "colab": {
          "base_uri": "https://localhost:8080/"
        },
        "id": "WnLMMEIpjDT3",
        "outputId": "0c32cc81-9275-4131-8ae9-0bd7978e3b59"
      },
      "execution_count": 8,
      "outputs": [
        {
          "output_type": "stream",
          "name": "stdout",
          "text": [
            "Found 51 images belonging to 5 classes.\n",
            "Found 2 images belonging to 5 classes.\n"
          ]
        }
      ]
    },
    {
      "cell_type": "code",
      "source": [
        "validation_set.class_indices"
      ],
      "metadata": {
        "colab": {
          "base_uri": "https://localhost:8080/"
        },
        "id": "vOdGoWekjDWw",
        "outputId": "18613c56-b57d-4c38-da86-4e778f6dcd6d"
      },
      "execution_count": null,
      "outputs": [
        {
          "output_type": "execute_result",
          "data": {
            "text/plain": [
              "{'a': 0, 'b': 1, 'c': 2, 'd': 3, 'e': 4}"
            ]
          },
          "metadata": {},
          "execution_count": 26
        }
      ]
    },
    {
      "cell_type": "code",
      "source": [
        "model = Sequential()\n",
        "model.add(Conv2D(32,(3,3),activation='relu',kernel_initializer='he_uniform',padding ='same',input_shape=(100,100,3)))\n",
        "model.add(Conv2D(32,(3,3),activation='relu',kernel_initializer='he_uniform',padding ='same'))\n",
        "model.add(MaxPooling2D((2,2)))\n",
        "model.add(Conv2D(64,(3,3),activation='relu',kernel_initializer='he_uniform',padding ='same'))\n",
        "model.add(Conv2D(64,(3,3),activation='relu',kernel_initializer='he_uniform',padding ='same'))\n",
        "model.add(MaxPooling2D((2,2)))\n",
        "model.add(Conv2D(128,(3,3),activation='relu',kernel_initializer='he_uniform',padding ='same'))\n",
        "model.add(Conv2D(128,(3,3),activation='relu',kernel_initializer='he_uniform',padding ='same'))\n",
        "model.add(MaxPooling2D((2,2)))\n",
        "model.add(Flatten())\n",
        "model.add(Dense(256,activation='relu',kernel_initializer='he_uniform'))\n",
        "model.add(Dropout(0.2))\n",
        "model.add(Dense(5,activation='softmax'))"
      ],
      "metadata": {
        "id": "VWUbxeRdjDZb"
      },
      "execution_count": 7,
      "outputs": []
    },
    {
      "cell_type": "code",
      "source": [
        "model.compile(loss='categorical_crossentropy',optimizer='adam',metrics=['accuracy'])\n",
        "model.fit(train_dataset,batch_size=128,epochs=100,verbose=1,validation_data=validation_set)"
      ],
      "metadata": {
        "colab": {
          "base_uri": "https://localhost:8080/"
        },
        "id": "msL1lwONjQuw",
        "outputId": "d792b490-461e-44b3-ae77-c1045e2e12af"
      },
      "execution_count": null,
      "outputs": [
        {
          "output_type": "stream",
          "name": "stdout",
          "text": [
            "Epoch 1/100\n",
            "1/1 [==============================] - 6s 6s/step - loss: 2.4813 - accuracy: 0.1569 - val_loss: 3.9356 - val_accuracy: 0.5000\n",
            "Epoch 2/100\n",
            "1/1 [==============================] - 5s 5s/step - loss: 12.1655 - accuracy: 0.3137 - val_loss: 6.5384 - val_accuracy: 0.5000\n",
            "Epoch 3/100\n",
            "1/1 [==============================] - 5s 5s/step - loss: 9.0780 - accuracy: 0.2353 - val_loss: 4.7346 - val_accuracy: 0.0000e+00\n",
            "Epoch 4/100\n",
            "1/1 [==============================] - 5s 5s/step - loss: 4.0404 - accuracy: 0.1765 - val_loss: 1.9227 - val_accuracy: 0.0000e+00\n",
            "Epoch 5/100\n",
            "1/1 [==============================] - 5s 5s/step - loss: 1.7428 - accuracy: 0.1765 - val_loss: 1.3644 - val_accuracy: 0.5000\n",
            "Epoch 6/100\n",
            "1/1 [==============================] - 5s 5s/step - loss: 1.5988 - accuracy: 0.3137 - val_loss: 1.1303 - val_accuracy: 0.5000\n",
            "Epoch 7/100\n",
            "1/1 [==============================] - 5s 5s/step - loss: 1.6062 - accuracy: 0.3137 - val_loss: 1.2123 - val_accuracy: 0.5000\n",
            "Epoch 8/100\n",
            "1/1 [==============================] - 5s 5s/step - loss: 1.5712 - accuracy: 0.3137 - val_loss: 1.3038 - val_accuracy: 0.5000\n",
            "Epoch 9/100\n",
            "1/1 [==============================] - 5s 5s/step - loss: 1.5301 - accuracy: 0.3137 - val_loss: 1.3194 - val_accuracy: 0.5000\n",
            "Epoch 10/100\n",
            "1/1 [==============================] - 5s 5s/step - loss: 1.5659 - accuracy: 0.2745 - val_loss: 1.3228 - val_accuracy: 0.5000\n",
            "Epoch 11/100\n",
            "1/1 [==============================] - 5s 5s/step - loss: 1.5416 - accuracy: 0.3137 - val_loss: 1.2782 - val_accuracy: 0.5000\n",
            "Epoch 12/100\n",
            "1/1 [==============================] - 5s 5s/step - loss: 1.5165 - accuracy: 0.3529 - val_loss: 1.1651 - val_accuracy: 0.5000\n",
            "Epoch 13/100\n",
            "1/1 [==============================] - 5s 5s/step - loss: 1.5272 - accuracy: 0.2941 - val_loss: 1.2481 - val_accuracy: 0.5000\n",
            "Epoch 14/100\n",
            "1/1 [==============================] - 5s 5s/step - loss: 1.5095 - accuracy: 0.3137 - val_loss: 1.3585 - val_accuracy: 0.5000\n",
            "Epoch 15/100\n",
            "1/1 [==============================] - 5s 5s/step - loss: 1.5254 - accuracy: 0.3529 - val_loss: 1.3321 - val_accuracy: 0.5000\n",
            "Epoch 16/100\n",
            "1/1 [==============================] - 5s 5s/step - loss: 1.4755 - accuracy: 0.3333 - val_loss: 1.1778 - val_accuracy: 0.5000\n",
            "Epoch 17/100\n",
            "1/1 [==============================] - 5s 5s/step - loss: 1.4975 - accuracy: 0.3137 - val_loss: 1.2861 - val_accuracy: 0.5000\n",
            "Epoch 18/100\n",
            "1/1 [==============================] - 5s 5s/step - loss: 1.4617 - accuracy: 0.2549 - val_loss: 1.2159 - val_accuracy: 1.0000\n",
            "Epoch 19/100\n",
            "1/1 [==============================] - 5s 5s/step - loss: 1.4217 - accuracy: 0.4118 - val_loss: 0.9181 - val_accuracy: 1.0000\n",
            "Epoch 20/100\n",
            "1/1 [==============================] - 5s 5s/step - loss: 1.4215 - accuracy: 0.3529 - val_loss: 1.0733 - val_accuracy: 1.0000\n",
            "Epoch 21/100\n",
            "1/1 [==============================] - 5s 5s/step - loss: 1.3667 - accuracy: 0.4118 - val_loss: 1.1370 - val_accuracy: 0.5000\n",
            "Epoch 22/100\n",
            "1/1 [==============================] - 5s 5s/step - loss: 1.3570 - accuracy: 0.3922 - val_loss: 1.1717 - val_accuracy: 0.5000\n",
            "Epoch 23/100\n",
            "1/1 [==============================] - 5s 5s/step - loss: 1.3478 - accuracy: 0.3529 - val_loss: 1.3665 - val_accuracy: 0.5000\n",
            "Epoch 24/100\n",
            "1/1 [==============================] - 5s 5s/step - loss: 1.3603 - accuracy: 0.4902 - val_loss: 1.1312 - val_accuracy: 0.5000\n",
            "Epoch 25/100\n",
            "1/1 [==============================] - 5s 5s/step - loss: 1.2008 - accuracy: 0.5294 - val_loss: 0.6886 - val_accuracy: 0.5000\n",
            "Epoch 26/100\n",
            "1/1 [==============================] - 5s 5s/step - loss: 1.3824 - accuracy: 0.3725 - val_loss: 1.5970 - val_accuracy: 0.0000e+00\n",
            "Epoch 27/100\n",
            "1/1 [==============================] - 5s 5s/step - loss: 1.3967 - accuracy: 0.3725 - val_loss: 1.6479 - val_accuracy: 0.0000e+00\n",
            "Epoch 28/100\n",
            "1/1 [==============================] - 5s 5s/step - loss: 1.4347 - accuracy: 0.3137 - val_loss: 0.7978 - val_accuracy: 1.0000\n",
            "Epoch 29/100\n",
            "1/1 [==============================] - 6s 6s/step - loss: 1.1453 - accuracy: 0.4902 - val_loss: 0.8996 - val_accuracy: 0.5000\n",
            "Epoch 30/100\n",
            "1/1 [==============================] - 5s 5s/step - loss: 1.3254 - accuracy: 0.4314 - val_loss: 0.4322 - val_accuracy: 1.0000\n",
            "Epoch 31/100\n",
            "1/1 [==============================] - 5s 5s/step - loss: 1.1838 - accuracy: 0.3725 - val_loss: 1.1265 - val_accuracy: 1.0000\n",
            "Epoch 32/100\n",
            "1/1 [==============================] - 5s 5s/step - loss: 1.1209 - accuracy: 0.6275 - val_loss: 0.9946 - val_accuracy: 1.0000\n",
            "Epoch 33/100\n",
            "1/1 [==============================] - 5s 5s/step - loss: 1.1311 - accuracy: 0.6078 - val_loss: 0.9847 - val_accuracy: 0.5000\n",
            "Epoch 34/100\n",
            "1/1 [==============================] - 5s 5s/step - loss: 0.9583 - accuracy: 0.6667 - val_loss: 0.8900 - val_accuracy: 0.5000\n",
            "Epoch 35/100\n",
            "1/1 [==============================] - 5s 5s/step - loss: 0.9905 - accuracy: 0.5098 - val_loss: 0.3159 - val_accuracy: 1.0000\n",
            "Epoch 36/100\n",
            "1/1 [==============================] - 5s 5s/step - loss: 0.9121 - accuracy: 0.6078 - val_loss: 0.7642 - val_accuracy: 1.0000\n",
            "Epoch 37/100\n",
            "1/1 [==============================] - 5s 5s/step - loss: 0.8972 - accuracy: 0.6471 - val_loss: 0.4600 - val_accuracy: 1.0000\n",
            "Epoch 38/100\n",
            "1/1 [==============================] - 5s 5s/step - loss: 0.8114 - accuracy: 0.6863 - val_loss: 0.2512 - val_accuracy: 1.0000\n",
            "Epoch 39/100\n",
            "1/1 [==============================] - 5s 5s/step - loss: 0.8349 - accuracy: 0.7059 - val_loss: 0.7399 - val_accuracy: 0.5000\n",
            "Epoch 40/100\n",
            "1/1 [==============================] - 5s 5s/step - loss: 0.6595 - accuracy: 0.7843 - val_loss: 1.3838 - val_accuracy: 0.5000\n",
            "Epoch 41/100\n",
            "1/1 [==============================] - 5s 5s/step - loss: 0.7511 - accuracy: 0.6471 - val_loss: 0.7399 - val_accuracy: 0.5000\n",
            "Epoch 42/100\n",
            "1/1 [==============================] - 5s 5s/step - loss: 0.5863 - accuracy: 0.7843 - val_loss: 0.1553 - val_accuracy: 1.0000\n",
            "Epoch 43/100\n",
            "1/1 [==============================] - 5s 5s/step - loss: 0.6764 - accuracy: 0.7647 - val_loss: 1.1212 - val_accuracy: 0.0000e+00\n",
            "Epoch 44/100\n",
            "1/1 [==============================] - 5s 5s/step - loss: 0.6666 - accuracy: 0.7255 - val_loss: 1.7796 - val_accuracy: 0.0000e+00\n",
            "Epoch 45/100\n",
            "1/1 [==============================] - 5s 5s/step - loss: 0.6700 - accuracy: 0.7059 - val_loss: 0.3304 - val_accuracy: 1.0000\n",
            "Epoch 46/100\n",
            "1/1 [==============================] - 5s 5s/step - loss: 0.5881 - accuracy: 0.7255 - val_loss: 0.9422 - val_accuracy: 0.5000\n",
            "Epoch 47/100\n",
            "1/1 [==============================] - 5s 5s/step - loss: 0.6916 - accuracy: 0.6471 - val_loss: 0.4321 - val_accuracy: 0.5000\n",
            "Epoch 48/100\n",
            "1/1 [==============================] - 5s 5s/step - loss: 0.5411 - accuracy: 0.8431 - val_loss: 0.7022 - val_accuracy: 0.5000\n",
            "Epoch 49/100\n",
            "1/1 [==============================] - 5s 5s/step - loss: 0.4957 - accuracy: 0.8039 - val_loss: 0.4467 - val_accuracy: 1.0000\n",
            "Epoch 50/100\n",
            "1/1 [==============================] - 5s 5s/step - loss: 0.3660 - accuracy: 0.8235 - val_loss: 0.1889 - val_accuracy: 1.0000\n",
            "Epoch 51/100\n",
            "1/1 [==============================] - 5s 5s/step - loss: 0.4508 - accuracy: 0.7843 - val_loss: 0.3912 - val_accuracy: 1.0000\n",
            "Epoch 52/100\n",
            "1/1 [==============================] - 5s 5s/step - loss: 0.5172 - accuracy: 0.7843 - val_loss: 0.1049 - val_accuracy: 1.0000\n",
            "Epoch 53/100\n",
            "1/1 [==============================] - 5s 5s/step - loss: 0.3508 - accuracy: 0.8824 - val_loss: 0.0135 - val_accuracy: 1.0000\n",
            "Epoch 54/100\n",
            "1/1 [==============================] - 5s 5s/step - loss: 0.5510 - accuracy: 0.7647 - val_loss: 1.1912 - val_accuracy: 0.5000\n",
            "Epoch 55/100\n",
            "1/1 [==============================] - 5s 5s/step - loss: 0.6544 - accuracy: 0.7451 - val_loss: 0.4683 - val_accuracy: 0.5000\n",
            "Epoch 56/100\n",
            "1/1 [==============================] - 5s 5s/step - loss: 0.4092 - accuracy: 0.8235 - val_loss: 0.1543 - val_accuracy: 1.0000\n",
            "Epoch 57/100\n",
            "1/1 [==============================] - 5s 5s/step - loss: 0.8495 - accuracy: 0.6471 - val_loss: 1.0267 - val_accuracy: 0.5000\n",
            "Epoch 58/100\n",
            "1/1 [==============================] - 5s 5s/step - loss: 0.4858 - accuracy: 0.7451 - val_loss: 1.5337 - val_accuracy: 0.0000e+00\n",
            "Epoch 59/100\n",
            "1/1 [==============================] - 5s 5s/step - loss: 0.6675 - accuracy: 0.6275 - val_loss: 0.0731 - val_accuracy: 1.0000\n",
            "Epoch 60/100\n",
            "1/1 [==============================] - 5s 5s/step - loss: 0.5218 - accuracy: 0.7451 - val_loss: 0.0399 - val_accuracy: 1.0000\n",
            "Epoch 61/100\n",
            "1/1 [==============================] - 5s 5s/step - loss: 0.8019 - accuracy: 0.6471 - val_loss: 0.2352 - val_accuracy: 1.0000\n",
            "Epoch 62/100\n",
            "1/1 [==============================] - 5s 5s/step - loss: 0.3445 - accuracy: 0.8824 - val_loss: 1.2284 - val_accuracy: 0.5000\n",
            "Epoch 63/100\n",
            "1/1 [==============================] - 5s 5s/step - loss: 0.4750 - accuracy: 0.7647 - val_loss: 0.1630 - val_accuracy: 1.0000\n",
            "Epoch 64/100\n",
            "1/1 [==============================] - 5s 5s/step - loss: 0.3286 - accuracy: 0.8627 - val_loss: 0.1189 - val_accuracy: 1.0000\n",
            "Epoch 65/100\n",
            "1/1 [==============================] - 5s 5s/step - loss: 0.8598 - accuracy: 0.6078 - val_loss: 1.8657 - val_accuracy: 0.5000\n",
            "Epoch 66/100\n",
            "1/1 [==============================] - 5s 5s/step - loss: 0.8032 - accuracy: 0.7059 - val_loss: 3.0455 - val_accuracy: 0.0000e+00\n",
            "Epoch 67/100\n",
            "1/1 [==============================] - 5s 5s/step - loss: 0.8733 - accuracy: 0.5490 - val_loss: 0.6682 - val_accuracy: 0.5000\n",
            "Epoch 68/100\n",
            "1/1 [==============================] - 5s 5s/step - loss: 0.7045 - accuracy: 0.7647 - val_loss: 0.2147 - val_accuracy: 1.0000\n",
            "Epoch 69/100\n",
            "1/1 [==============================] - 5s 5s/step - loss: 0.8960 - accuracy: 0.6471 - val_loss: 1.4515 - val_accuracy: 0.5000\n",
            "Epoch 70/100\n",
            "1/1 [==============================] - 5s 5s/step - loss: 0.5917 - accuracy: 0.7451 - val_loss: 1.3538 - val_accuracy: 0.5000\n",
            "Epoch 71/100\n",
            "1/1 [==============================] - 5s 5s/step - loss: 0.9338 - accuracy: 0.5686 - val_loss: 1.5313 - val_accuracy: 0.5000\n",
            "Epoch 72/100\n",
            "1/1 [==============================] - 5s 5s/step - loss: 0.6946 - accuracy: 0.6863 - val_loss: 0.3892 - val_accuracy: 0.5000\n",
            "Epoch 73/100\n",
            "1/1 [==============================] - 5s 5s/step - loss: 0.6225 - accuracy: 0.7451 - val_loss: 0.0928 - val_accuracy: 1.0000\n",
            "Epoch 74/100\n",
            "1/1 [==============================] - 5s 5s/step - loss: 0.9669 - accuracy: 0.6275 - val_loss: 0.3116 - val_accuracy: 1.0000\n",
            "Epoch 75/100\n",
            "1/1 [==============================] - 5s 5s/step - loss: 0.5873 - accuracy: 0.8431 - val_loss: 0.6495 - val_accuracy: 0.5000\n",
            "Epoch 76/100\n",
            "1/1 [==============================] - 5s 5s/step - loss: 0.6585 - accuracy: 0.6863 - val_loss: 1.2817 - val_accuracy: 0.5000\n",
            "Epoch 77/100\n",
            "1/1 [==============================] - 5s 5s/step - loss: 0.5347 - accuracy: 0.7451 - val_loss: 1.0835 - val_accuracy: 0.0000e+00\n",
            "Epoch 78/100\n",
            "1/1 [==============================] - 5s 5s/step - loss: 0.5345 - accuracy: 0.7255 - val_loss: 0.3615 - val_accuracy: 1.0000\n",
            "Epoch 79/100\n",
            "1/1 [==============================] - 5s 5s/step - loss: 0.7049 - accuracy: 0.7255 - val_loss: 0.2603 - val_accuracy: 1.0000\n",
            "Epoch 80/100\n",
            "1/1 [==============================] - 5s 5s/step - loss: 0.4478 - accuracy: 0.7843 - val_loss: 0.7958 - val_accuracy: 0.5000\n",
            "Epoch 81/100\n",
            "1/1 [==============================] - 5s 5s/step - loss: 0.5491 - accuracy: 0.8824 - val_loss: 0.5886 - val_accuracy: 0.5000\n",
            "Epoch 82/100\n",
            "1/1 [==============================] - 5s 5s/step - loss: 0.4494 - accuracy: 0.8039 - val_loss: 0.6046 - val_accuracy: 0.5000\n",
            "Epoch 83/100\n",
            "1/1 [==============================] - 5s 5s/step - loss: 0.4383 - accuracy: 0.7843 - val_loss: 0.4145 - val_accuracy: 1.0000\n",
            "Epoch 84/100\n",
            "1/1 [==============================] - 5s 5s/step - loss: 0.3492 - accuracy: 0.8627 - val_loss: 0.2433 - val_accuracy: 1.0000\n",
            "Epoch 85/100\n",
            "1/1 [==============================] - 5s 5s/step - loss: 0.2918 - accuracy: 0.8824 - val_loss: 1.1524 - val_accuracy: 0.5000\n",
            "Epoch 86/100\n",
            "1/1 [==============================] - 5s 5s/step - loss: 0.2758 - accuracy: 0.8824 - val_loss: 1.0198 - val_accuracy: 0.5000\n",
            "Epoch 87/100\n",
            "1/1 [==============================] - 5s 5s/step - loss: 0.2863 - accuracy: 0.8824 - val_loss: 0.1811 - val_accuracy: 1.0000\n",
            "Epoch 88/100\n",
            "1/1 [==============================] - 5s 5s/step - loss: 0.3436 - accuracy: 0.8627 - val_loss: 0.5956 - val_accuracy: 0.5000\n",
            "Epoch 89/100\n",
            "1/1 [==============================] - 5s 5s/step - loss: 0.4378 - accuracy: 0.8039 - val_loss: 1.3085 - val_accuracy: 0.5000\n",
            "Epoch 90/100\n",
            "1/1 [==============================] - 5s 5s/step - loss: 0.4785 - accuracy: 0.7647 - val_loss: 0.9123 - val_accuracy: 0.5000\n",
            "Epoch 91/100\n",
            "1/1 [==============================] - 5s 5s/step - loss: 0.2991 - accuracy: 0.8431 - val_loss: 0.0557 - val_accuracy: 1.0000\n",
            "Epoch 92/100\n",
            "1/1 [==============================] - 5s 5s/step - loss: 0.2539 - accuracy: 0.9020 - val_loss: 0.0227 - val_accuracy: 1.0000\n",
            "Epoch 93/100\n",
            "1/1 [==============================] - 5s 5s/step - loss: 0.4735 - accuracy: 0.7647 - val_loss: 0.7078 - val_accuracy: 0.5000\n",
            "Epoch 94/100\n",
            "1/1 [==============================] - 5s 5s/step - loss: 0.2758 - accuracy: 0.9412 - val_loss: 1.6058 - val_accuracy: 0.5000\n",
            "Epoch 95/100\n",
            "1/1 [==============================] - 5s 5s/step - loss: 0.5092 - accuracy: 0.7843 - val_loss: 2.0704 - val_accuracy: 0.5000\n",
            "Epoch 96/100\n",
            "1/1 [==============================] - 5s 5s/step - loss: 0.5885 - accuracy: 0.7255 - val_loss: 1.3372 - val_accuracy: 0.5000\n",
            "Epoch 97/100\n",
            "1/1 [==============================] - 5s 5s/step - loss: 0.3714 - accuracy: 0.8039 - val_loss: 0.4496 - val_accuracy: 0.5000\n",
            "Epoch 98/100\n",
            "1/1 [==============================] - 5s 5s/step - loss: 0.3364 - accuracy: 0.8627 - val_loss: 0.0040 - val_accuracy: 1.0000\n",
            "Epoch 99/100\n",
            "1/1 [==============================] - 5s 5s/step - loss: 0.3434 - accuracy: 0.8235 - val_loss: 0.0086 - val_accuracy: 1.0000\n",
            "Epoch 100/100\n",
            "1/1 [==============================] - 5s 5s/step - loss: 0.2684 - accuracy: 0.8431 - val_loss: 0.0061 - val_accuracy: 1.0000\n"
          ]
        },
        {
          "output_type": "execute_result",
          "data": {
            "text/plain": [
              "<keras.callbacks.History at 0x7f4bef2b7990>"
            ]
          },
          "metadata": {},
          "execution_count": 28
        }
      ]
    },
    {
      "cell_type": "code",
      "source": [
        "train_dataset=data_generator.flow_from_directory(trainset,\n",
        "                                     target_size=(100,100),\n",
        "                                     batch_size=128,\n",
        "                                     class_mode='categorical',\n",
        "                                     subset=\"training\",\n",
        "                                     shuffle=True,)\n",
        "validation_set=data_generator.flow_from_directory(trainset,\n",
        "                                              target_size=(100,100),\n",
        "                                              batch_size=128,\n",
        "                                              class_mode='categorical',\n",
        "                                              subset=\"validation\",\n",
        "                                              shuffle=True)"
      ],
      "metadata": {
        "colab": {
          "base_uri": "https://localhost:8080/"
        },
        "id": "b5qJDUyejRPX",
        "outputId": "24f52d4b-9a53-4bdf-a702-6a6259d95397"
      },
      "execution_count": 9,
      "outputs": [
        {
          "output_type": "stream",
          "name": "stdout",
          "text": [
            "Found 51 images belonging to 5 classes.\n",
            "Found 2 images belonging to 5 classes.\n"
          ]
        }
      ]
    },
    {
      "cell_type": "code",
      "source": [
        "model.save('chitay.hs')"
      ],
      "metadata": {
        "colab": {
          "base_uri": "https://localhost:8080/"
        },
        "id": "sTtHmjVgjRRy",
        "outputId": "29c425f2-9ee3-4c2c-e8c4-dc2c46dc0c61"
      },
      "execution_count": 10,
      "outputs": [
        {
          "output_type": "stream",
          "name": "stdout",
          "text": [
            "WARNING:tensorflow:Compiled the loaded model, but the compiled metrics have yet to be built. `model.compile_metrics` will be empty until you train or evaluate the model.\n",
            "INFO:tensorflow:Assets written to: chitay.hs/assets\n"
          ]
        }
      ]
    },
    {
      "cell_type": "code",
      "source": [
        "model1=load_model('chitay.hs')"
      ],
      "metadata": {
        "id": "HFOAfZNUmltC",
        "colab": {
          "base_uri": "https://localhost:8080/"
        },
        "outputId": "c2d95834-9fff-4dc5-8ec9-0d8deb7c12b7"
      },
      "execution_count": 11,
      "outputs": [
        {
          "output_type": "stream",
          "name": "stdout",
          "text": [
            "WARNING:tensorflow:No training configuration found in save file, so the model was *not* compiled. Compile it manually.\n"
          ]
        }
      ]
    },
    {
      "cell_type": "code",
      "source": [
        "import numpy as np\n",
        "from tensorflow.keras.utils import load_img,img_to_array\n",
        "img=load_img('/content/drive/MyDrive/Colab Notebooks/chitay/Hands/b/Hand_0003140.jpg',target_size=(100,100))\n",
        "img=img_to_array(img)\n",
        "img=img.reshape(1,100,100,3)\n",
        "img=img.astype('float32')\n",
        "img=img/255\n",
        "np.argmax(model1.predict(img),axis=-1)"
      ],
      "metadata": {
        "colab": {
          "base_uri": "https://localhost:8080/"
        },
        "id": "gQpWK7domlyI",
        "outputId": "33664765-f5c0-4746-be8f-dcfbbbb1cf37"
      },
      "execution_count": 14,
      "outputs": [
        {
          "output_type": "execute_result",
          "data": {
            "text/plain": [
              "array([4])"
            ]
          },
          "metadata": {},
          "execution_count": 14
        }
      ]
    },
    {
      "cell_type": "code",
      "source": [
        "label = ['a','b','c','d','e']"
      ],
      "metadata": {
        "id": "ac5RBi8Iml0e"
      },
      "execution_count": 13,
      "outputs": []
    },
    {
      "cell_type": "code",
      "source": [
        "import numpy as np\n",
        "from tensorflow.keras.utils import load_img,img_to_array\n",
        "img = load_img('/content/drive/MyDrive/Colab Notebooks/chitay/Hands/b/Hand_0003140.jpg', target_size = (100,100))\n",
        "plt.imshow(img)\n",
        "img = img_to_array(img)\n",
        "img = img.reshape(1,100,100,3) \n",
        "img = img.astype('float32')\n",
        "img = img/255\n",
        "print(label[np.argmax(model.predict(img))])"
      ],
      "metadata": {
        "colab": {
          "base_uri": "https://localhost:8080/",
          "height": 285
        },
        "id": "3-bdF92bmpWR",
        "outputId": "6364bd52-2dd1-4273-d192-710955102e5d"
      },
      "execution_count": 15,
      "outputs": [
        {
          "output_type": "stream",
          "name": "stdout",
          "text": [
            "e\n"
          ]
        },
        {
          "output_type": "display_data",
          "data": {
            "text/plain": [
              "<Figure size 432x288 with 1 Axes>"
            ],
            "image/png": "[encoded data removed]"
          },
          "metadata": {
            "needs_background": "light"
          }
        }
      ]
    }
  ]
}